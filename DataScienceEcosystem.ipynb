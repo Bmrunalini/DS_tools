{
 "cells": [
  {
   "cell_type": "markdown",
   "id": "a2cf32ef-1d89-402f-bae0-f54e1379020e",
   "metadata": {},
   "source": [
    "# Data Science Tools and Ecosystem"
   ]
  },
  {
   "cell_type": "markdown",
   "id": "30d5c500-2888-43e0-b87c-9e608424b852",
   "metadata": {},
   "source": [
    "In this notebook, Data Science Tools and Ecosystem are summarized."
   ]
  },
  {
   "cell_type": "markdown",
   "id": "615d41c0-72ae-4b4f-af60-d309e69aa973",
   "metadata": {},
   "source": [
    "Some of the popular languages that Data Scientists use are:\n",
    "\n",
    "1. Python\n",
    "5. R\n",
    "10. Julia\n",
    "5. SQL"
   ]
  },
  {
   "cell_type": "markdown",
   "id": "337b45ee-d51e-4f0c-9425-642f3c677a6c",
   "metadata": {},
   "source": [
    "Some of the commonly used libraries used by Data Scientists include:\n",
    "1. Pandas\n",
    "5. NumPy\n",
    "10. SciPy\n",
    "5. TensorFlow\n",
    "10. Plotly"
   ]
  },
  {
   "cell_type": "markdown",
   "id": "d491052b-fbd2-484c-8657-5b841fa40d85",
   "metadata": {
    "tags": []
   },
   "source": [
    "### Data Science Tools\n",
    "devenv|openst\n",
    "|------|------|\n",
    "Python|Jupyter Notebook\n",
    "R|RStudio\n",
    "Visual Studio|Apache Spark"
   ]
  },
  {
   "cell_type": "markdown",
   "id": "2e798a89-bf29-4d31-b9a1-266c3398db75",
   "metadata": {},
   "source": [
    "### Below are a few examples of evaluating arithmetic expressions in Python"
   ]
  },
  {
   "cell_type": "code",
   "execution_count": 3,
   "id": "4d2f945c-8f1a-4534-8435-eff3961a65a4",
   "metadata": {
    "tags": []
   },
   "outputs": [
    {
     "data": {
      "text/plain": [
       "17"
      ]
     },
     "execution_count": 3,
     "metadata": {},
     "output_type": "execute_result"
    }
   ],
   "source": [
    "#This a simple arithmetic expression to mutiply then add integers\n",
    "(3*4)+5"
   ]
  },
  {
   "cell_type": "code",
   "execution_count": 4,
   "id": "2fffee36-a8df-4403-b57c-f51a98afdf58",
   "metadata": {
    "tags": []
   },
   "outputs": [
    {
     "data": {
      "text/plain": [
       "3.3333333333333335"
      ]
     },
     "execution_count": 4,
     "metadata": {},
     "output_type": "execute_result"
    }
   ],
   "source": [
    "#This will convert 200 minutes to hours by diving by 60\n",
    "200/60"
   ]
  },
  {
   "cell_type": "markdown",
   "id": "ccd693ac-abef-48f6-ada1-bdb0d5b63136",
   "metadata": {},
   "source": [
    "**Objectives:**\n",
    "List popular languages for Data Science\n",
    "- Python\n",
    "- R\n",
    "- Java\n",
    "- PHP\n",
    "- Julia\n",
    "- Ruby"
   ]
  },
  {
   "cell_type": "markdown",
   "id": "b3bc5a70-ecab-4a97-9d0a-928fe56072d0",
   "metadata": {},
   "source": [
    "## Author\n",
    "Mrunalini"
   ]
  },
  {
   "cell_type": "code",
   "execution_count": null,
   "id": "a4d1b7e8-cf4e-4cdb-8851-7e8827aa9610",
   "metadata": {},
   "outputs": [],
   "source": []
  }
 ],
 "metadata": {
  "kernelspec": {
   "display_name": "Python",
   "language": "python",
   "name": "conda-env-python-py"
  },
  "language_info": {
   "codemirror_mode": {
    "name": "ipython",
    "version": 3
   },
   "file_extension": ".py",
   "mimetype": "text/x-python",
   "name": "python",
   "nbconvert_exporter": "python",
   "pygments_lexer": "ipython3",
   "version": "3.7.12"
  }
 },
 "nbformat": 4,
 "nbformat_minor": 5
}
